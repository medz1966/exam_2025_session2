{
  "cells": [
    {
      "cell_type": "markdown",
      "source": [
        "#Problème - Session n°2 : une variable cachée"
      ],
      "metadata": {
        "id": "GYE9s4-HA1o_"
      },
      "id": "GYE9s4-HA1o_"
    },
    {
      "cell_type": "markdown",
      "source": [
        "Dans ce problème, on travaille sur un jeu de données comportant 50.000 entrées $x_i$ et des cibles $y_i$. Les entrées sont des vecteurs de taille 10 (au format torch), les cibles sont des scalaires construits à partir de cinq fonctions différentes ($f_0$, ..., $f_4$) : \\\n",
        "\n",
        "$$ \\forall i, \\exists k\\in [\\![0 \\;;4]\\!]  \\:\\: \\text{tel que} \\: f_k(x_i) = y_i $$\n",
        "\n",
        "Ces fonctions sont inconnues, ainsi que l'indice $k$. Par contre, on sait que le groupe des 1000 premières cibles ont été construites à partir du même indice  $k$, de même pour les mille  suivantes, et ainsi de suite.\n",
        "\n",
        "Le but est de parvenir à rassembler les groupes de cibles qui ont été générées avec le même indice $k$ (avec la même fonction)."
      ],
      "metadata": {
        "id": "pknhArHLLPP-"
      },
      "id": "pknhArHLLPP-"
    },
    {
      "cell_type": "code",
      "source": [
        "# Example d'échantillonnage du dataset\n",
        "import torch\n",
        "from torch.utils.data import DataLoader\n",
        "\n",
        "! git clone https://github.com/medz1966/exam_2025_session2.git\n",
        "! cp exam_2025_session2/utils/utils.py .\n",
        "from utils import Problem1Dataset\n",
        "\n",
        "dataset = Problem1Dataset()\n",
        "dataloader = DataLoader(dataset, batch_size=32, shuffle=True)\n",
        "\n",
        "for batch in dataloader:\n",
        "    x_batch, y_batch, k_batch, idx_batch = batch\n",
        "    print(\"Batch input shape:\", x_batch.shape)\n",
        "    print(\"Batch target shape:\", y_batch.shape)\n",
        "    print(\"Batch k shape:\", k_batch.shape) # indice k (pas utilisable à l'entraînement)\n",
        "    print(\"Batch indices shape:\", idx_batch.shape)\n",
        "    break"
      ],
      "metadata": {
        "id": "zqFIZKgTPK14",
        "colab": {
          "base_uri": "https://localhost:8080/"
        },
        "outputId": "d4597f2b-a617-4d2d-a0ee-52a4dca1bf88"
      },
      "id": "zqFIZKgTPK14",
      "execution_count": 2,
      "outputs": [
        {
          "output_type": "stream",
          "name": "stdout",
          "text": [
            "Cloning into 'exam_2025_session2'...\n",
            "remote: Enumerating objects: 81, done.\u001b[K\n",
            "remote: Counting objects: 100% (81/81), done.\u001b[K\n",
            "remote: Compressing objects: 100% (77/77), done.\u001b[K\n",
            "remote: Total 81 (delta 23), reused 8 (delta 1), pack-reused 0 (from 0)\u001b[K\n",
            "Receiving objects: 100% (81/81), 312.73 KiB | 15.64 MiB/s, done.\n",
            "Resolving deltas: 100% (23/23), done.\n",
            "Batch input shape: torch.Size([32, 10])\n",
            "Batch target shape: torch.Size([32, 1])\n",
            "Batch k shape: torch.Size([32])\n",
            "Batch indices shape: torch.Size([32])\n"
          ]
        }
      ]
    },
    {
      "cell_type": "markdown",
      "source": [
        "**Consignes :**\n",
        "- Entraîner l'architecture proposée dans la cellule suivante.\n",
        "- Montrer que les vecteurs 2D de self.theta permettent de répondre\n",
        "  au problème posé.\n",
        "- Décrire le rôle de self.theta, du vector noise \\\n",
        " et ainsi que la raison de la division par 1000 (**indices // 1000** dans le code)."
      ],
      "metadata": {
        "id": "-q1zuebPPvob"
      },
      "id": "-q1zuebPPvob"
    },
    {
      "cell_type": "code",
      "source": [
        "class DeepMLP(nn.Module):\n",
        "    def __init__(self, input_dim, output_dim, hidden_dim=256):\n",
        "        super(DeepMLP, self).__init__()\n",
        "        self.theta = nn.Parameter(torch.randn(50, 2))\n",
        "        self.fc1 = nn.Linear(input_dim + 2, hidden_dim)\n",
        "        self.fc2 = nn.Linear(hidden_dim, hidden_dim)\n",
        "        self.fc3 = nn.Linear(hidden_dim, hidden_dim)\n",
        "        self.fc4 = nn.Linear(hidden_dim, output_dim)\n",
        "\n",
        "    def forward(self, x, indices):\n",
        "        theta_batch = self.theta[indices // 1000, :]\n",
        "        noise = torch.normal(mean=torch.zeros_like(theta_batch),\n",
        "                             std=torch.ones_like(theta_batch))\n",
        "        x = torch.cat([x, theta_batch + noise], dim=1)\n",
        "        x = torch.relu(self.fc1(x))\n",
        "        x = torch.relu(self.fc2(x))\n",
        "        x = torch.relu(self.fc3(x))\n",
        "        x = self.fc4(x)\n",
        "        return x, theta_batch"
      ],
      "metadata": {
        "id": "idbO80HfPdiQ"
      },
      "id": "idbO80HfPdiQ",
      "execution_count": 5,
      "outputs": []
    },
    {
      "cell_type": "code",
      "source": [],
      "metadata": {
        "id": "NpGRe1vb09BS"
      },
      "id": "NpGRe1vb09BS",
      "execution_count": null,
      "outputs": []
    },
    {
      "cell_type": "code",
      "source": [
        "import torch\n",
        "import torch.nn as nn\n",
        "import torch.optim as optim\n",
        "from torch.utils.data import DataLoader\n",
        "from utils import Problem1Dataset\n",
        "\n",
        "# Check if GPU is available and set the device\n",
        "device = torch.device(\"cuda\" if torch.cuda.is_available() else \"cpu\")\n",
        "print(f\"Using device: {device}\")\n",
        "\n",
        "# Load the dataset\n",
        "dataset = Problem1Dataset()\n",
        "dataloader = DataLoader(dataset, batch_size=128, shuffle=True)  # Increased batch size for faster training\n",
        "\n",
        "# Initialize the model\n",
        "input_dim = 10  # Each input is a vector of size 10\n",
        "output_dim = 1   # Each target is a scalar\n",
        "model = DeepMLP(input_dim, output_dim).to(device)  # Move model to GPU\n",
        "\n",
        "# Define the loss function and optimizer\n",
        "loss_fn = nn.MSELoss()  # Mean Squared Error for regression\n",
        "optimizer = optim.Adam(model.parameters(), lr=0.001)  # Adam optimizer\n",
        "\n",
        "# Training loop\n",
        "num_epochs = 2000\n",
        "for epoch in range(num_epochs):\n",
        "    for batch in dataloader:\n",
        "        x_batch, y_batch, _, idx_batch = batch\n",
        "\n",
        "        # Move data to the GPU\n",
        "        x_batch = x_batch.to(device)\n",
        "        y_batch = y_batch.to(device)\n",
        "        idx_batch = idx_batch.to(device)\n",
        "\n",
        "        # Zero the gradients\n",
        "        optimizer.zero_grad()\n",
        "\n",
        "        # Forward pass\n",
        "        y_pred, theta_batch = model(x_batch, idx_batch)\n",
        "\n",
        "        # Calculate the loss\n",
        "        loss = loss_fn(y_pred, y_batch)\n",
        "\n",
        "        # Backward pass and optimization\n",
        "        loss.backward()\n",
        "        optimizer.step()\n",
        "\n",
        "    # Print loss every 100 epochs\n",
        "    if epoch % 100 == 0:\n",
        "        print(f\"Epoch [{epoch+1}/{num_epochs}], Loss: {loss.item():.4f}\")\n",
        "\n",
        "# After training, inspect the learned theta vectors\n",
        "print(\"Learned theta vectors:\")\n",
        "print(model.theta)"
      ],
      "metadata": {
        "id": "UVmpuK5mnXY5",
        "colab": {
          "base_uri": "https://localhost:8080/"
        },
        "outputId": "4ccb99aa-1327-47a5-bb61-0bfcc9e22f8d"
      },
      "id": "UVmpuK5mnXY5",
      "execution_count": 13,
      "outputs": [
        {
          "output_type": "stream",
          "name": "stdout",
          "text": [
            "Using device: cuda\n",
            "Epoch [1/2000], Loss: 210.4705\n",
            "Epoch [101/2000], Loss: 1.0804\n",
            "Epoch [201/2000], Loss: 0.5809\n",
            "Epoch [301/2000], Loss: 0.2401\n",
            "Epoch [401/2000], Loss: 0.1871\n",
            "Epoch [501/2000], Loss: 0.2258\n",
            "Epoch [601/2000], Loss: 0.1164\n",
            "Epoch [701/2000], Loss: 0.1059\n",
            "Epoch [801/2000], Loss: 0.1272\n",
            "Epoch [901/2000], Loss: 0.0700\n",
            "Epoch [1001/2000], Loss: 0.0672\n",
            "Epoch [1101/2000], Loss: 0.0813\n",
            "Epoch [1201/2000], Loss: 0.1023\n",
            "Epoch [1301/2000], Loss: 0.0956\n",
            "Epoch [1401/2000], Loss: 0.0973\n",
            "Epoch [1501/2000], Loss: 0.0947\n",
            "Epoch [1601/2000], Loss: 0.0763\n",
            "Epoch [1701/2000], Loss: 0.0917\n",
            "Epoch [1801/2000], Loss: 0.0818\n",
            "Epoch [1901/2000], Loss: 0.0875\n",
            "Learned theta vectors:\n",
            "Parameter containing:\n",
            "tensor([[ 6.6758e+00,  1.0221e+01],\n",
            "        [-4.1250e-02, -2.6550e+00],\n",
            "        [-1.0095e+01,  7.0241e+00],\n",
            "        [ 1.0684e+01, -1.0362e+01],\n",
            "        [-1.1335e+01, -9.7504e+00],\n",
            "        [ 7.6251e+00,  9.6436e+00],\n",
            "        [ 6.4767e-03, -2.5796e+00],\n",
            "        [-9.5246e+00,  7.0588e+00],\n",
            "        [ 1.0489e+01, -9.5588e+00],\n",
            "        [-1.2161e+01, -1.0468e+01],\n",
            "        [ 7.3141e+00,  9.7334e+00],\n",
            "        [ 8.1850e-02, -2.4796e+00],\n",
            "        [-9.8395e+00,  7.2494e+00],\n",
            "        [ 1.0856e+01, -9.8242e+00],\n",
            "        [-1.1473e+01, -1.0389e+01],\n",
            "        [ 7.4626e+00,  9.7801e+00],\n",
            "        [-2.4287e-01, -2.5899e+00],\n",
            "        [-9.7871e+00,  6.8465e+00],\n",
            "        [ 1.1526e+01, -9.3194e+00],\n",
            "        [-1.1282e+01, -1.1715e+01],\n",
            "        [ 7.0205e+00,  9.8260e+00],\n",
            "        [ 2.4003e-01, -2.1004e+00],\n",
            "        [-9.7463e+00,  6.9033e+00],\n",
            "        [ 1.1243e+01, -8.7183e+00],\n",
            "        [-1.0806e+01, -1.0528e+01],\n",
            "        [ 7.0932e+00,  1.0060e+01],\n",
            "        [-2.8248e-01, -2.7297e+00],\n",
            "        [-9.8505e+00,  6.6814e+00],\n",
            "        [ 1.0844e+01, -8.6941e+00],\n",
            "        [-1.1471e+01, -1.0446e+01],\n",
            "        [ 7.1566e+00,  9.7628e+00],\n",
            "        [ 1.1276e-01, -2.4386e+00],\n",
            "        [-1.0095e+01,  7.0284e+00],\n",
            "        [ 1.0285e+01, -9.6668e+00],\n",
            "        [-1.1539e+01, -1.0516e+01],\n",
            "        [ 7.0720e+00,  9.4866e+00],\n",
            "        [-1.4488e-02, -2.6169e+00],\n",
            "        [-1.0013e+01,  6.5811e+00],\n",
            "        [ 1.1365e+01, -8.5250e+00],\n",
            "        [-1.0763e+01, -1.0324e+01],\n",
            "        [ 7.3639e+00,  9.9088e+00],\n",
            "        [ 8.3551e-02, -2.3434e+00],\n",
            "        [-9.6167e+00,  6.7970e+00],\n",
            "        [ 1.0565e+01, -1.0791e+01],\n",
            "        [-1.1141e+01, -9.9894e+00],\n",
            "        [ 7.5480e+00,  1.0172e+01],\n",
            "        [ 3.4419e-02, -2.4565e+00],\n",
            "        [-1.0105e+01,  6.9114e+00],\n",
            "        [ 1.1356e+01, -8.7706e+00],\n",
            "        [-1.0606e+01, -1.1855e+01]], device='cuda:0', requires_grad=True)\n"
          ]
        }
      ]
    },
    {
      "cell_type": "code",
      "source": [],
      "metadata": {
        "id": "qFXUYgv5ztWK"
      },
      "id": "qFXUYgv5ztWK",
      "execution_count": 10,
      "outputs": []
    },
    {
      "cell_type": "markdown",
      "source": [
        "## Consigne 1"
      ],
      "metadata": {
        "id": "lbPTw7_XSgHy"
      },
      "id": "lbPTw7_XSgHy"
    },
    {
      "cell_type": "markdown",
      "source": [
        "1. Entraînement de l'architecture proposée\n",
        "L'entraînement s'est déroulé sur 2000 epochs et la perte a évolué comme suit :\n",
        "\n",
        "Epoch 1: Loss = 210.4705 (très élevé au départ, ce qui est normal).\n",
        "Epoch 101: Loss = 1.0804 (chute rapide, le modèle commence à apprendre).\n",
        "Epoch 201: Loss = 0.5809 (stabilisation progressive).\n",
        "Epoch 901: Loss = 0.0700 (la perte devient très faible, signe que l'apprentissage est efficace).\n",
        "Epoch 1901: Loss = 0.0875 (valeur relativement stable).\n",
        "🔹 Interprétation\n",
        "\n",
        "Le modèle a bien appris à prédire les cibles.\n",
        "La perte a diminué rapidement au début, puis a convergé autour de 0.07 - 0.1, ce qui indique un bon ajustement."
      ],
      "metadata": {
        "id": "ezkO_w9cQLEc"
      },
      "id": "ezkO_w9cQLEc"
    },
    {
      "cell_type": "markdown",
      "source": [
        "## Consigne 2\n"
      ],
      "metadata": {
        "id": "TKAXwpJjQsW8"
      },
      "id": "TKAXwpJjQsW8"
    },
    {
      "cell_type": "code",
      "source": [
        "import numpy as np\n",
        "import matplotlib.pyplot as plt\n",
        "from sklearn.cluster import KMeans\n",
        "\n",
        "# Manually copied theta values from the markdown result\n",
        "theta_values = np.array([\n",
        "    [ 6.6758, 10.2210],\n",
        "    [-0.0412, -2.6550],\n",
        "    [-10.095,  7.0241],\n",
        "    [10.684, -10.362],\n",
        "    [-11.335, -9.7504],\n",
        "    [ 7.6251,  9.6436],\n",
        "    [ 0.0064, -2.5796],\n",
        "    [-9.5246,  7.0588],\n",
        "    [10.489, -9.5588],\n",
        "    [-12.161, -10.468],\n",
        "    [ 7.3141,  9.7334],\n",
        "    [ 0.0818, -2.4796],\n",
        "    [-9.8395,  7.2494],\n",
        "    [10.856, -9.8242],\n",
        "    [-11.473, -10.389],\n",
        "    [ 7.4626,  9.7801],\n",
        "    [-0.2429, -2.5899],\n",
        "    [-9.7871,  6.8465],\n",
        "    [11.526, -9.3194],\n",
        "    [-11.282, -11.715],\n",
        "    [ 7.0205,  9.8260],\n",
        "    [ 0.2400, -2.1004],\n",
        "    [-9.7463,  6.9033],\n",
        "    [11.243, -8.7183],\n",
        "    [-10.806, -10.528],\n",
        "    [ 7.0932, 10.060],\n",
        "    [-0.2825, -2.7297],\n",
        "    [-9.8505,  6.6814],\n",
        "    [10.844, -8.6941],\n",
        "    [-11.471, -10.446],\n",
        "    [ 7.1566,  9.7628],\n",
        "    [ 0.1128, -2.4386],\n",
        "    [-10.095,  7.0284],\n",
        "    [10.285, -9.6668],\n",
        "    [-11.539, -10.516],\n",
        "    [ 7.0720,  9.4866],\n",
        "    [-0.0145, -2.6169],\n",
        "    [-10.013,  6.5811],\n",
        "    [11.365, -8.5250],\n",
        "    [-10.763, -10.324],\n",
        "    [ 7.3639,  9.9088],\n",
        "    [ 0.0836, -2.3434],\n",
        "    [-9.6167,  6.7970],\n",
        "    [10.565, -10.791],\n",
        "    [-11.141, -9.9894],\n",
        "    [ 7.5480, 10.172],\n",
        "    [ 0.0344, -2.4565],\n",
        "    [-10.105,  6.9114],\n",
        "    [11.356, -8.7706],\n",
        "    [-10.606, -11.855]\n",
        "])\n",
        "\n",
        "print(\"Theta values shape:\", theta_values.shape)  # Should be (50, 2)\n"
      ],
      "metadata": {
        "colab": {
          "base_uri": "https://localhost:8080/"
        },
        "id": "2i42Lb4FQvKS",
        "outputId": "d6bbaa71-deaf-4e90-9b52-9d1228d1466f"
      },
      "id": "2i42Lb4FQvKS",
      "execution_count": 2,
      "outputs": [
        {
          "output_type": "stream",
          "name": "stdout",
          "text": [
            "Theta values shape: (50, 2)\n"
          ]
        }
      ]
    },
    {
      "cell_type": "code",
      "source": [
        "# Perform K-Means clustering with 5 clusters\n",
        "num_clusters = 5\n",
        "kmeans = KMeans(n_clusters=num_clusters, random_state=42, n_init=10)\n",
        "cluster_labels = kmeans.fit_predict(theta_values)\n",
        "\n",
        "# Print cluster assignments\n",
        "print(\"Cluster labels assigned to each theta vector:\", cluster_labels)\n"
      ],
      "metadata": {
        "id": "TEElxT3vRf7K",
        "outputId": "d197caab-92c2-4d85-b107-d34c2926b271",
        "colab": {
          "base_uri": "https://localhost:8080/"
        }
      },
      "id": "TEElxT3vRf7K",
      "execution_count": 3,
      "outputs": [
        {
          "output_type": "stream",
          "name": "stdout",
          "text": [
            "Cluster labels assigned to each theta vector: [3 1 2 0 4 3 1 2 0 4 3 1 2 0 4 3 1 2 0 4 3 1 2 0 4 3 1 2 0 4 3 1 2 0 4 3 1\n",
            " 2 0 4 3 1 2 0 4 3 1 2 0 4]\n"
          ]
        }
      ]
    },
    {
      "cell_type": "code",
      "source": [
        "# Plot the clusters\n",
        "plt.figure(figsize=(8, 6))\n",
        "plt.scatter(theta_values[:, 0], theta_values[:, 1], c=cluster_labels, cmap='viridis', s=100, edgecolors='k')\n",
        "plt.xlabel(\"Theta Dimension 1\")\n",
        "plt.ylabel(\"Theta Dimension 2\")\n",
        "plt.title(\"Clustering of Theta Vectors\")\n",
        "plt.colorbar(label=\"Cluster\")\n",
        "plt.show()\n"
      ],
      "metadata": {
        "id": "geL8YYdfRmWC",
        "outputId": "242045cc-435c-4825-c158-e84277a4c8a3",
        "colab": {
          "base_uri": "https://localhost:8080/",
          "height": 564
        }
      },
      "id": "geL8YYdfRmWC",
      "execution_count": 4,
      "outputs": [
        {
          "output_type": "display_data",
          "data": {
            "text/plain": [
              "<Figure size 800x600 with 2 Axes>"
            ],
            "image/png": "[encoded data removed]"
          },
          "metadata": {}
        }
      ]
    },
    {
      "cell_type": "markdown",
      "source": [
        "Preuve que self.theta permet de distinguer les groupes de cibles\n",
        "L’application du clustering K-Means sur les vecteurs self.theta a produit 5 clusters distincts, avec les mêmes labels répartis périodiquement tous les 5 indices"
      ],
      "metadata": {
        "id": "VzXXRo3_R3qR"
      },
      "id": "VzXXRo3_R3qR"
    },
    {
      "cell_type": "markdown",
      "source": [
        "## Consigne 3\n",
        "\n",
        "### **Rôle de `self.theta`, du bruit (`noise`) et de la division par 1000**  \n",
        "\n",
        "#### **`self.theta` :**  \n",
        "- C’est un **vecteur 2D appris** pour chaque groupe de **1000 échantillons**.  \n",
        "- Il représente la **\"signature\" du groupe**, capturant les caractéristiques de la fonction \\( f_k \\) utilisée pour générer les cibles de ce groupe.  \n",
        "- Pendant l'entraînement, le modèle **ajuste ces vecteurs** afin de mieux distinguer les différents groupes.  \n",
        "\n",
        "---\n",
        "\n",
        "#### **Bruit (`noise`) :**  \n",
        "- Du bruit aléatoire est ajouté aux vecteurs `self.theta` lors de l'entraînement.  \n",
        "- Cela permet **d’améliorer la généralisation** en introduisant de **petites variations aléatoires**.  \n",
        "- Sans ce bruit, le modèle pourrait **trop s’adapter aux données d'entraînement** et ne pas bien généraliser aux nouveaux échantillons (**overfitting**).  \n",
        "\n",
        "---\n",
        "\n",
        "#### **Division par 1000 :**  \n",
        "- Le dataset est divisé en **groupes de 1000 échantillons**, chaque groupe étant associé à une fonction \\( f_k \\) spécifique.  \n",
        "- La formule `indices // 1000` permet d'assigner **le bon vecteur `theta`** à chaque échantillon en fonction de son groupe.  \n",
        "\n",
        "**Exemple :**  \n",
        "- Échantillons **0 à 999** → **groupe 0** → utilise `theta[0]`.  \n",
        "- Échantillons **1000 à 1999** → **groupe 1** → utilise `theta[1]`.  \n",
        "- Et ainsi de suite.  \n",
        "\n",
        "**Conclusion :**  \n",
        "L’association de `self.theta`, du **bruit** et de la **division par 1000** permet au modèle d’apprendre **une représentation latente des groupes cachés**, ce qui lui permet de bien regrouper les échantillons selon leur fonction génératrice. 🚀  \n",
        "\n"
      ],
      "metadata": {
        "id": "2ZDsN0AP0gua"
      },
      "id": "2ZDsN0AP0gua"
    }
  ],
  "metadata": {
    "colab": {
      "provenance": [],
      "gpuType": "T4"
    },
    "kernelspec": {
      "display_name": "Python 3",
      "name": "python3"
    },
    "language_info": {
      "codemirror_mode": {
        "name": "ipython",
        "version": 3
      },
      "file_extension": ".py",
      "mimetype": "text/x-python",
      "name": "python",
      "nbconvert_exporter": "python",
      "pygments_lexer": "ipython3",
      "version": "3.9.15"
    },
    "accelerator": "GPU"
  },
  "nbformat": 4,
  "nbformat_minor": 5
}