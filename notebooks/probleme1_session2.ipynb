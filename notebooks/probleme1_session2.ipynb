{
  "cells": [
    {
      "cell_type": "markdown",
      "source": [
        "#Problème - Session n°2 : une variable cachée"
      ],
      "metadata": {
        "id": "GYE9s4-HA1o_"
      },
      "id": "GYE9s4-HA1o_"
    },
    {
      "cell_type": "markdown",
      "source": [
        "Dans ce problème, on travaille sur un jeu de données comportant 50.000 entrées $x_i$ et des cibles $y_i$. Les entrées sont des vecteurs de taille 10 (au format torch), les cibles sont des scalaires construits à partir de cinq fonctions différentes ($f_0$, ..., $f_4$) : \\\n",
        "\n",
        "$$ \\forall i, \\exists k\\in [\\![0 \\;;4]\\!]  \\:\\: \\text{tel que} \\: f_k(x_i) = y_i $$\n",
        "\n",
        "Ces fonctions sont inconnues, ainsi que l'indice $k$. Par contre, on sait que le groupe des 1000 premières cibles ont été construites à partir du même indice  $k$, de même pour les mille  suivantes, et ainsi de suite.\n",
        "\n",
        "Le but est de parvenir à rassembler les groupes de cibles qui ont été générées avec le même indice $k$ (avec la même fonction)."
      ],
      "metadata": {
        "id": "pknhArHLLPP-"
      },
      "id": "pknhArHLLPP-"
    },
    {
      "cell_type": "code",
      "source": [
        "# Example d'échantillonnage du dataset\n",
        "import torch\n",
        "from torch.utils.data import DataLoader\n",
        "\n",
        "! git clone https://github.com/medz1966/exam_2025_session2.git\n",
        "! cp exam_2025_session2/utils/utils.py .\n",
        "from utils import Problem1Dataset\n",
        "\n",
        "dataset = Problem1Dataset()\n",
        "dataloader = DataLoader(dataset, batch_size=32, shuffle=True)\n",
        "\n",
        "for batch in dataloader:\n",
        "    x_batch, y_batch, k_batch, idx_batch = batch\n",
        "    print(\"Batch input shape:\", x_batch.shape)\n",
        "    print(\"Batch target shape:\", y_batch.shape)\n",
        "    print(\"Batch k shape:\", k_batch.shape) # indice k (pas utilisable à l'entraînement)\n",
        "    print(\"Batch indices shape:\", idx_batch.shape)\n",
        "    break"
      ],
      "metadata": {
        "id": "zqFIZKgTPK14",
        "colab": {
          "base_uri": "https://localhost:8080/"
        },
        "outputId": "d4597f2b-a617-4d2d-a0ee-52a4dca1bf88"
      },
      "id": "zqFIZKgTPK14",
      "execution_count": 2,
      "outputs": [
        {
          "output_type": "stream",
          "name": "stdout",
          "text": [
            "Cloning into 'exam_2025_session2'...\n",
            "remote: Enumerating objects: 81, done.\u001b[K\n",
            "remote: Counting objects: 100% (81/81), done.\u001b[K\n",
            "remote: Compressing objects: 100% (77/77), done.\u001b[K\n",
            "remote: Total 81 (delta 23), reused 8 (delta 1), pack-reused 0 (from 0)\u001b[K\n",
            "Receiving objects: 100% (81/81), 312.73 KiB | 15.64 MiB/s, done.\n",
            "Resolving deltas: 100% (23/23), done.\n",
            "Batch input shape: torch.Size([32, 10])\n",
            "Batch target shape: torch.Size([32, 1])\n",
            "Batch k shape: torch.Size([32])\n",
            "Batch indices shape: torch.Size([32])\n"
          ]
        }
      ]
    },
    {
      "cell_type": "markdown",
      "source": [
        "**Consignes :**\n",
        "- Entraîner l'architecture proposée dans la cellule suivante.\n",
        "- Montrer que les vecteurs 2D de self.theta permettent de répondre\n",
        "  au problème posé.\n",
        "- Décrire le rôle de self.theta, du vector noise \\\n",
        " et ainsi que la raison de la division par 1000 (**indices // 1000** dans le code)."
      ],
      "metadata": {
        "id": "-q1zuebPPvob"
      },
      "id": "-q1zuebPPvob"
    },
    {
      "cell_type": "code",
      "source": [
        "class DeepMLP(nn.Module):\n",
        "    def __init__(self, input_dim, output_dim, hidden_dim=256):\n",
        "        super(DeepMLP, self).__init__()\n",
        "        self.theta = nn.Parameter(torch.randn(50, 2))\n",
        "        self.fc1 = nn.Linear(input_dim + 2, hidden_dim)\n",
        "        self.fc2 = nn.Linear(hidden_dim, hidden_dim)\n",
        "        self.fc3 = nn.Linear(hidden_dim, hidden_dim)\n",
        "        self.fc4 = nn.Linear(hidden_dim, output_dim)\n",
        "\n",
        "    def forward(self, x, indices):\n",
        "        theta_batch = self.theta[indices // 1000, :]\n",
        "        noise = torch.normal(mean=torch.zeros_like(theta_batch),\n",
        "                             std=torch.ones_like(theta_batch))\n",
        "        x = torch.cat([x, theta_batch + noise], dim=1)\n",
        "        x = torch.relu(self.fc1(x))\n",
        "        x = torch.relu(self.fc2(x))\n",
        "        x = torch.relu(self.fc3(x))\n",
        "        x = self.fc4(x)\n",
        "        return x, theta_batch"
      ],
      "metadata": {
        "id": "idbO80HfPdiQ"
      },
      "id": "idbO80HfPdiQ",
      "execution_count": 5,
      "outputs": []
    },
    {
      "cell_type": "code",
      "source": [],
      "metadata": {
        "id": "NpGRe1vb09BS"
      },
      "id": "NpGRe1vb09BS",
      "execution_count": null,
      "outputs": []
    },
    {
      "cell_type": "code",
      "source": [
        "import torch\n",
        "import torch.nn as nn\n",
        "import torch.optim as optim\n",
        "from torch.utils.data import DataLoader\n",
        "from utils import Problem1Dataset\n",
        "\n",
        "# Check if GPU is available and set the device\n",
        "device = torch.device(\"cuda\" if torch.cuda.is_available() else \"cpu\")\n",
        "print(f\"Using device: {device}\")\n",
        "\n",
        "# Load the dataset\n",
        "dataset = Problem1Dataset()\n",
        "dataloader = DataLoader(dataset, batch_size=128, shuffle=True)  # Increased batch size for faster training\n",
        "\n",
        "# Initialize the model\n",
        "input_dim = 10  # Each input is a vector of size 10\n",
        "output_dim = 1   # Each target is a scalar\n",
        "model = DeepMLP(input_dim, output_dim).to(device)  # Move model to GPU\n",
        "\n",
        "# Define the loss function and optimizer\n",
        "loss_fn = nn.MSELoss()  # Mean Squared Error for regression\n",
        "optimizer = optim.Adam(model.parameters(), lr=0.001)  # Adam optimizer\n",
        "\n",
        "# Training loop\n",
        "num_epochs = 2000\n",
        "for epoch in range(num_epochs):\n",
        "    for batch in dataloader:\n",
        "        x_batch, y_batch, _, idx_batch = batch\n",
        "\n",
        "        # Move data to the GPU\n",
        "        x_batch = x_batch.to(device)\n",
        "        y_batch = y_batch.to(device)\n",
        "        idx_batch = idx_batch.to(device)\n",
        "\n",
        "        # Zero the gradients\n",
        "        optimizer.zero_grad()\n",
        "\n",
        "        # Forward pass\n",
        "        y_pred, theta_batch = model(x_batch, idx_batch)\n",
        "\n",
        "        # Calculate the loss\n",
        "        loss = loss_fn(y_pred, y_batch)\n",
        "\n",
        "        # Backward pass and optimization\n",
        "        loss.backward()\n",
        "        optimizer.step()\n",
        "\n",
        "    # Print loss every 100 epochs\n",
        "    if epoch % 100 == 0:\n",
        "        print(f\"Epoch [{epoch+1}/{num_epochs}], Loss: {loss.item():.4f}\")\n",
        "\n",
        "# After training, inspect the learned theta vectors\n",
        "print(\"Learned theta vectors:\")\n",
        "print(model.theta)"
      ],
      "metadata": {
        "id": "UVmpuK5mnXY5",
        "colab": {
          "base_uri": "https://localhost:8080/"
        },
        "outputId": "1b9b5c5a-3f40-4f4f-8053-857ff57ef6dc"
      },
      "id": "UVmpuK5mnXY5",
      "execution_count": 12,
      "outputs": [
        {
          "output_type": "stream",
          "name": "stdout",
          "text": [
            "Using device: cuda\n",
            "Epoch [1/50], Loss: 210.4705\n",
            "Epoch [2/50], Loss: 133.2904\n",
            "Epoch [3/50], Loss: 157.7950\n",
            "Epoch [4/50], Loss: 139.4067\n",
            "Epoch [5/50], Loss: 125.4037\n",
            "Epoch [6/50], Loss: 92.8253\n",
            "Epoch [7/50], Loss: 122.1277\n",
            "Epoch [8/50], Loss: 44.3012\n",
            "Epoch [9/50], Loss: 78.7368\n",
            "Epoch [10/50], Loss: 72.6585\n",
            "Epoch [11/50], Loss: 58.5326\n",
            "Epoch [12/50], Loss: 30.5738\n",
            "Epoch [13/50], Loss: 26.8217\n",
            "Epoch [14/50], Loss: 36.0434\n",
            "Epoch [15/50], Loss: 17.9923\n",
            "Epoch [16/50], Loss: 22.3653\n",
            "Epoch [17/50], Loss: 20.9041\n",
            "Epoch [18/50], Loss: 11.0733\n",
            "Epoch [19/50], Loss: 21.9626\n",
            "Epoch [20/50], Loss: 24.8648\n",
            "Epoch [21/50], Loss: 17.1325\n",
            "Epoch [22/50], Loss: 10.5360\n",
            "Epoch [23/50], Loss: 6.5659\n",
            "Epoch [24/50], Loss: 27.4344\n",
            "Epoch [25/50], Loss: 7.4797\n",
            "Epoch [26/50], Loss: 5.3714\n",
            "Epoch [27/50], Loss: 13.5706\n",
            "Epoch [28/50], Loss: 4.3513\n",
            "Epoch [29/50], Loss: 4.6908\n",
            "Epoch [30/50], Loss: 3.2247\n",
            "Epoch [31/50], Loss: 3.0353\n",
            "Epoch [32/50], Loss: 17.9652\n",
            "Epoch [33/50], Loss: 6.2755\n",
            "Epoch [34/50], Loss: 5.4336\n",
            "Epoch [35/50], Loss: 7.6143\n",
            "Epoch [36/50], Loss: 4.3830\n",
            "Epoch [37/50], Loss: 4.6002\n",
            "Epoch [38/50], Loss: 2.8644\n",
            "Epoch [39/50], Loss: 6.4244\n",
            "Epoch [40/50], Loss: 2.5097\n",
            "Epoch [41/50], Loss: 4.6570\n",
            "Epoch [42/50], Loss: 2.2573\n",
            "Epoch [43/50], Loss: 4.3828\n",
            "Epoch [44/50], Loss: 3.3584\n",
            "Epoch [45/50], Loss: 1.5127\n",
            "Epoch [46/50], Loss: 2.3211\n",
            "Epoch [47/50], Loss: 1.7612\n",
            "Epoch [48/50], Loss: 2.5687\n",
            "Epoch [49/50], Loss: 3.0589\n",
            "Epoch [50/50], Loss: 2.4268\n",
            "Learned theta vectors:\n",
            "Parameter containing:\n",
            "tensor([[ 2.6083,  4.8934],\n",
            "        [-0.0809, -1.2873],\n",
            "        [-3.9697,  2.9529],\n",
            "        [ 4.2268, -4.9803],\n",
            "        [-5.1453, -3.7861],\n",
            "        [ 2.8298,  4.5887],\n",
            "        [-0.0974, -1.3077],\n",
            "        [-3.9636,  2.9542],\n",
            "        [ 5.1032, -3.8926],\n",
            "        [-5.1453, -4.0923],\n",
            "        [ 2.9340,  4.6279],\n",
            "        [-0.0083, -1.2071],\n",
            "        [-3.9967,  2.8224],\n",
            "        [ 4.1912, -5.0797],\n",
            "        [-5.2384, -3.9901],\n",
            "        [ 2.8715,  4.5094],\n",
            "        [-0.0061, -1.1234],\n",
            "        [-4.0105,  2.9359],\n",
            "        [ 4.2433, -5.0258],\n",
            "        [-4.7326, -4.2880],\n",
            "        [ 2.5439,  4.9693],\n",
            "        [-0.0918, -1.2367],\n",
            "        [-4.0469,  2.9910],\n",
            "        [ 5.0666, -3.7221],\n",
            "        [-4.8778, -4.2097],\n",
            "        [ 2.8910,  4.5756],\n",
            "        [-0.0541, -1.2177],\n",
            "        [-3.9592,  2.8989],\n",
            "        [ 4.5745, -4.4705],\n",
            "        [-5.3851, -3.7535],\n",
            "        [ 2.8833,  4.4375],\n",
            "        [-0.1362, -1.2445],\n",
            "        [-3.9653,  2.9514],\n",
            "        [ 4.4025, -4.7481],\n",
            "        [-5.1022, -3.9664],\n",
            "        [ 2.8353,  4.4995],\n",
            "        [-0.1363, -1.2147],\n",
            "        [-3.9937,  2.9897],\n",
            "        [ 5.0971, -3.9159],\n",
            "        [-4.9889, -3.9974],\n",
            "        [ 2.9251,  4.3399],\n",
            "        [ 0.0595, -1.0725],\n",
            "        [-4.0600,  2.8653],\n",
            "        [ 3.4890, -5.6765],\n",
            "        [-4.8833, -3.9014],\n",
            "        [ 2.8039,  4.6260],\n",
            "        [-0.1083, -1.2343],\n",
            "        [-3.9905,  2.9345],\n",
            "        [ 4.7847, -4.1676],\n",
            "        [-4.9933, -4.1514]], device='cuda:0', requires_grad=True)\n"
          ]
        }
      ]
    },
    {
      "cell_type": "code",
      "source": [],
      "metadata": {
        "id": "qFXUYgv5ztWK"
      },
      "id": "qFXUYgv5ztWK",
      "execution_count": 10,
      "outputs": []
    },
    {
      "cell_type": "markdown",
      "source": [
        "3. Describe the Role of self.theta, noise, and Division by 1000\n",
        "self.theta:\n",
        "\n",
        "This is a learnable 2D vector for each group of 1000 samples.\n",
        "\n",
        "It represents the \"signature\" of the group, capturing the characteristics of the function\n",
        "f\n",
        "k\n",
        "f\n",
        "k\n",
        "​\n",
        "  used to generate the targets for that group.\n",
        "\n",
        "During training, the model learns to adjust these vectors to distinguish between groups.\n",
        "\n",
        "noise:\n",
        "\n",
        "Noise is added to the theta vectors during training.\n",
        "\n",
        "It helps the model generalize better by introducing small random variations.\n",
        "\n",
        "Without noise, the model might overfit to the training data and fail to generalize to new samples.\n",
        "\n",
        "Division by 1000:\n",
        "\n",
        "The dataset is divided into groups of 1000 samples, and each group uses the same function\n",
        "f\n",
        "k\n",
        "f\n",
        "k\n",
        "​\n",
        "  to generate the targets.\n",
        "\n",
        "The formula indices // 1000 assigns the correct theta vector to each sample based on its group.\n",
        "\n",
        "For example:\n",
        "\n",
        "Samples 0 to 999 → group 0 → use theta[0].\n",
        "\n",
        "Samples 1000 to 1999 → group 1 → use theta[1].\n",
        "\n",
        "And so on.\n",
        "\n"
      ],
      "metadata": {
        "id": "2ZDsN0AP0gua"
      },
      "id": "2ZDsN0AP0gua"
    }
  ],
  "metadata": {
    "colab": {
      "provenance": [],
      "gpuType": "T4"
    },
    "kernelspec": {
      "display_name": "Python 3",
      "name": "python3"
    },
    "language_info": {
      "codemirror_mode": {
        "name": "ipython",
        "version": 3
      },
      "file_extension": ".py",
      "mimetype": "text/x-python",
      "name": "python",
      "nbconvert_exporter": "python",
      "pygments_lexer": "ipython3",
      "version": "3.9.15"
    },
    "accelerator": "GPU"
  },
  "nbformat": 4,
  "nbformat_minor": 5
}